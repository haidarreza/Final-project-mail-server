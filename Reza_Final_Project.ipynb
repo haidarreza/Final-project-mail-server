{
 "cells": [
  {
   "cell_type": "code",
   "execution_count": null,
   "metadata": {},
   "outputs": [],
   "source": [
    "import smtplib\n",
    "from email.mime.multipart import MIMEMultipart\n",
    "from email.mime.text import MIMEText\n",
    "\n",
    "def send_gmail(pengirim,penerima,isi):\n",
    "    \n",
    "    penerima = [\"haidarrezaaa@gmail.com\",\"haidarreza93@gmail.com\"]\n",
    "    pengirim = \"lloydasp93@gmail.com\"\n",
    "    msg = MIMEMultipart()\n",
    "    msg['From'] = pengirim\n",
    "    msg['To'] = \",\".join(penerima)  # , sebagai penambah penerima\n",
    "    msg['Subject'] = isi\n",
    " \n",
    "    isi = \"Hellow world\"\n",
    "    msg.attach(MIMEText(isi, 'plain'))\n",
    "    server = smtplib.SMTP('smtp.gmail.com', 587)\n",
    "    server.starttls()\n",
    "    server.login(pengirim, \"rempage123\")\n",
    "    server.sendmail(pengirim, penerima, msg.as_string())\n",
    "    server.close()\n",
    "    print(\"Email sent\")\n",
    "send_gmail(\"pengirim\",\"penerima\",\"isi\")"
   ]
  }
 ],
 "metadata": {
  "kernelspec": {
   "display_name": "Python 3",
   "language": "python",
   "name": "python3"
  },
  "language_info": {
   "codemirror_mode": {
    "name": "ipython",
    "version": 3
   },
   "file_extension": ".py",
   "mimetype": "text/x-python",
   "name": "python",
   "nbconvert_exporter": "python",
   "pygments_lexer": "ipython3",
   "version": "3.8.2"
  }
 },
 "nbformat": 4,
 "nbformat_minor": 4
}
