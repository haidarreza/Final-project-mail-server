{
 "cells": [
  {
   "cell_type": "code",
   "execution_count": null,
   "metadata": {},
   "outputs": [],
   "source": [
    "import smtplib\n",
    "from email.mime.multipart import MIMEMultipart\n",
    "from email.mime.text import MIMEText\n",
    "\n",
    "\n",
    "\n",
    "def send_gmail(pengirim,penerima,isi):\n",
    "    \n",
    "    receiver = open(\"receiver_list.txt\", \"r+\")\n",
    "    for penerima in receiver:\n",
    "        penerima = receiver.read()\n",
    "    pengirim = \"lloydasp93@gmail.com\"\n",
    "    msg = MIMEMultipart()\n",
    "    msg['From'] = pengirim\n",
    "    msg['To'] =\",\".join(penerima)  # penerima\n",
    "    msg['Subject'] = isi\n",
    " \n",
    "    isi = \"Hello world\"\n",
    "    msg.attach(MIMEText(isi, 'plain'))        #isi dari email\n",
    "    server = smtplib.SMTP('smtp.gmail.com', 587)   #port 587 untuk plain text\n",
    "    server.starttls()                                   #encrypt traffic\n",
    "    server.login(pengirim, \"rempage123\")                 #untuk login ke email\n",
    "    server.sendmail(pengirim, penerima, msg.as_string())     #mengirim email\n",
    "    server.close()\n",
    "    print(\"Email sent\")\n",
    "send_gmail(\"pengirim\",\"penerima\",\"isi\")"
   ]
  }
 ],
 "metadata": {
  "kernelspec": {
   "display_name": "Python 3",
   "language": "python",
   "name": "python3"
  },
  "language_info": {
   "codemirror_mode": {
    "name": "ipython",
    "version": 3
   },
   "file_extension": ".py",
   "mimetype": "text/x-python",
   "name": "python",
   "nbconvert_exporter": "python",
   "pygments_lexer": "ipython3",
   "version": "3.8.2"
  }
 },
 "nbformat": 4,
 "nbformat_minor": 4
}
